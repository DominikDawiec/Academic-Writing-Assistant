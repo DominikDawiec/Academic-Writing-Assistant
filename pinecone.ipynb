{
 "cells": [
  {
   "cell_type": "code",
   "execution_count": 3,
   "id": "075350f3-dcb8-4c95-bf6e-5425835b84e0",
   "metadata": {},
   "outputs": [
    {
     "data": {
      "text/plain": [
       "2"
      ]
     },
     "execution_count": 3,
     "metadata": {},
     "output_type": "execute_result"
    }
   ],
   "source": [
    "# Importowanie potrzebnych bibliotek\n",
    "from langchain.text_splitter import SentenceTransformersTokenTextSplitter\n",
    "from langchain.embeddings.openai import OpenAIEmbeddings\n",
    "from langchain.document_loaders import DirectoryLoader\n",
    "from langchain.vectorstores import Pinecone\n",
    "from tqdm.autonotebook import tqdm\n",
    "import pinecone \n",
    "import openai\n",
    "import os\n",
    "import re\n",
    "\n",
    "# Zdefiniowanie zmiennej 'directory' przechowującej ścieżkę do folderu z danymi\n",
    "directory = 'data'\n",
    "\n",
    "def load_docs(directory):\n",
    "  loader = DirectoryLoader(directory)\n",
    "  documents = loader.load()\n",
    "  return documents\n",
    "\n",
    "documents = load_docs(directory)\n",
    "\n",
    "# Wyświetlenie liczby załadowanych dokumentów\n",
    "len(documents)"
   ]
  },
  {
   "cell_type": "code",
   "execution_count": 5,
   "id": "0289a3f1-c218-4100-94c7-713b35373de6",
   "metadata": {},
   "outputs": [],
   "source": [
    "# Ustawienie zmiennej środowiskowej 'OPENAI_API_KEY' na konkretny klucz API\n",
    "os.environ[\"OPENAI_API_KEY\"] = \" \"\n",
    "\n",
    "# Zdefiniowanie modelu do embeddingów\n",
    "embeddings = OpenAIEmbeddings(model_name=\"text-embedding-ada-002\")"
   ]
  },
  {
   "cell_type": "code",
   "execution_count": 6,
   "id": "c75b0545-dda1-4ea7-bf54-7c589bb93679",
   "metadata": {},
   "outputs": [],
   "source": [
    "for document in documents:\n",
    "    # Usunięcie myślników na końcu linii i połączenie słów\n",
    "    document.page_content = re.sub(r'-\\n', '', document.page_content)\n",
    "    # Usunięcie numerów stron (enter, liczby, enter)\n",
    "    document.page_content = re.sub('\\n\\d+\\n', '\\n', document.page_content)\n",
    "    # Usunięcie wszystkich enterów\n",
    "    document.page_content = re.sub('\\n', '', document.page_content)"
   ]
  },
  {
   "cell_type": "code",
   "execution_count": 12,
   "id": "e9d38eda-c199-4bd9-bc51-274d50d9a125",
   "metadata": {
    "tags": []
   },
   "outputs": [
    {
     "name": "stdout",
     "output_type": "stream",
     "text": [
      "1742\n"
     ]
    }
   ],
   "source": [
    "# funkcja split_docs, która dzieli dokumenty na chunki\n",
    "def split_docs(documents,chunk_size=2000,chunk_overlap=150):\n",
    "  text_splitter = SentenceTransformersTokenTextSplitter(chunk_size=chunk_size, chunk_overlap=chunk_overlap)\n",
    "  docs = text_splitter.split_documents(documents)\n",
    "  return docs\n",
    "\n",
    "docs = split_docs(documents)\n",
    "print(len(docs))"
   ]
  },
  {
   "cell_type": "code",
   "execution_count": 14,
   "id": "4a29978c-4d83-4f24-aa84-69a4db0fc0e0",
   "metadata": {},
   "outputs": [
    {
     "name": "stdout",
     "output_type": "stream",
     "text": [
      "interdyscyplinarny charakter nauki o organizacji i zarzadzaniu po - woduje, ze obie centralne kategorie zawarte w nazwie dyscypliny sa roznie de€niowane, interpretowane. szczegolnie dotyczy to termi - nu zarzadzania i innych bliskoznacznych terminow, np. kierowania, administrowania itp. interdyscyplinarny charakter nauki o organizacji i zarzadzaniu w naturalny sposob generował wielosc historycznych i wspołczesnych nurtow i szkoł zarzadzania. roznorodnosc obiektow badawczych w sensie ich wielkosci, struktur i funkcji, na ktorych opi - sywane sa systemy zarzadzania, coraz wieksza turbulencja otoczenia organizacji, wpływajaca na zmiany tresci i formy zarzadzania nimi, dodatkowo komplikuje identy€kacje kategorii epistemologicznych na adekwatnym nauce poziomie ogolnosci. brak precyzyjnych i jedno - znacznie rozumianych podstawowych kategorii w nauce rodzi podejrze - nia o brak wyraznie wyodrebnionego przedmiotu badan, a jej niechet - ni przynajmnie\n"
     ]
    }
   ],
   "source": [
    "# Wyświetlenie zawartości wybranego chunka\n",
    "print(docs[90].page_content)"
   ]
  },
  {
   "cell_type": "code",
   "execution_count": 15,
   "id": "f475162f-e2ef-400b-83bc-1072759369ac",
   "metadata": {},
   "outputs": [],
   "source": [
    "# Inicjalizacja Pinecone, platformy do zarządzania bazami wektorowymi\n",
    "pinecone.init(\n",
    "    api_key=\" \",  # Klucz API\n",
    "    environment=\" \"  # Nazwa środowiska, która jest dostępna w konsoli obok klucza API\n",
    ")\n",
    "\n",
    "index_name = \" \" # Nazwa indeksu\n",
    "\n",
    "# Tworzenie indeksu w Pinecone z dokumentów i osadzeń (embeddings), oraz nadanie mu nazwy\n",
    "index = Pinecone.from_documents(docs, embeddings, index_name=index_name)"
   ]
  },
  {
   "cell_type": "code",
   "execution_count": 16,
   "id": "84933b6f-9efd-488d-bb37-49d40df6f310",
   "metadata": {},
   "outputs": [],
   "source": [
    "# Definicja funkcji get_similiar_docs, która zwraca chunki podobne do zadanego zapytania\n",
    "def get_similiar_docs(query,k=1,score=False):\n",
    "  if score:\n",
    "    similar_docs = index.similarity_search_with_score(query,k=k)\n",
    "  else:\n",
    "    similar_docs = index.similarity_search(query,k=k)\n",
    "  return similar_docs"
   ]
  },
  {
   "cell_type": "code",
   "execution_count": 17,
   "id": "e0117daf-4dc4-4804-b5d9-2e87595bb1ca",
   "metadata": {},
   "outputs": [
    {
     "data": {
      "text/plain": [
       "[Document(page_content='##p – definicja i charakterystykajak podkresla z. j. klonowski [ 1995, s. 92 ], w literaturze przedmiotu nie ma ujed - noliconej definicji systemu erp ( ang. enterprise resource planning ). mozna tez spotkac wiele roznych prob zdefiniowania tych systemow, nierzadko znaczaco od sie - bie odbiegajacych i akcentujacych bardziej odmienne ich aspekty. na potrzeby prezentowanego opracowania mozna przyjac nastepujaca definicjesystemow erp : zintegrowanym systemem informatycznym wspomagajacym zarzadzanie klasy erp ( w skrocie : systemem erp ) jest oprogramowanie standardowe oferowane w formie pakietow, majace na celu wspomaganie zarzadzania przedsiebiorstwem. jego funk - cjonalnosc w całosci obejmuje standard mrp ii w wersji rozwinietej, ma lub jest zin - tegrowane z modułami umozliwiajacymi obsługe procesow z obszaru finansow i control - lingu oraz zarzadzania zasobami ludzkimi i moze byc w prosty sposob zintegrowane z innymi modułami funkcjonalnymi oraz system', metadata={'source': 'data\\\\Wspolczesne_metody_zarzadzania.pdf'})]"
      ]
     },
     "execution_count": 17,
     "metadata": {},
     "output_type": "execute_result"
    }
   ],
   "source": [
    "# Ustawienie zmiennej 'query' na tekst zapytania\n",
    "query = \"Czym są systemy ERP?\"\n",
    "\n",
    "# Wywołanie funkcji get_similiar_docs z zapytaniem 'query'\n",
    "similar_docs = get_similiar_docs(query)\n",
    "similar_docs"
   ]
  },
  {
   "cell_type": "code",
   "execution_count": null,
   "id": "1d1eb93b-46e8-43fe-9075-26be0572be84",
   "metadata": {},
   "outputs": [],
   "source": []
  }
 ],
 "metadata": {
  "kernelspec": {
   "display_name": "Python 3 (ipykernel)",
   "language": "python",
   "name": "python3"
  },
  "language_info": {
   "codemirror_mode": {
    "name": "ipython",
    "version": 3
   },
   "file_extension": ".py",
   "mimetype": "text/x-python",
   "name": "python",
   "nbconvert_exporter": "python",
   "pygments_lexer": "ipython3",
   "version": "3.9.13"
  }
 },
 "nbformat": 4,
 "nbformat_minor": 5
}
